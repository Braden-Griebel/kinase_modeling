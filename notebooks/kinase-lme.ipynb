{
 "cells": [
  {
   "cell_type": "code",
   "execution_count": 118,
   "id": "initial_id",
   "metadata": {
    "collapsed": true,
    "ExecuteTime": {
     "end_time": "2024-03-29T23:42:10.932526Z",
     "start_time": "2024-03-29T23:42:10.923509Z"
    }
   },
   "outputs": [],
   "source": [
    "# Import Statements\n",
    "# Standard Library Imports\n",
    "import os\n",
    "import sys\n",
    "\n",
    "# External imports\n",
    "import matplotlib.pyplot as plt\n",
    "import numpy as np\n",
    "import pandas as pd\n",
    "import polars as pl\n",
    "import scipy.stats\n",
    "import statsmodels.api as sm\n",
    "import statsmodels.formula.api as smf\n",
    "\n",
    "# Local Imports"
   ]
  },
  {
   "cell_type": "markdown",
   "source": [
    "# Load and Preprocess Data"
   ],
   "metadata": {
    "collapsed": false
   },
   "id": "b68426114d35abd0"
  },
  {
   "cell_type": "markdown",
   "source": [
    "## Transcription Factor Targets"
   ],
   "metadata": {
    "collapsed": false
   },
   "id": "531fd9279905af5c"
  },
  {
   "cell_type": "code",
   "outputs": [],
   "source": [
    "tf_fold_change = pd.read_excel(os.path.join(\"..\", \"data\", \"tfoe\", \"13059_2014_502_MOESM1_ESM.xlsx\"), \n",
    "                               sheet_name = \"SupplementaryTableS2\", \n",
    "                               usecols=\"A,E:HB\",\n",
    "                               header=0,\n",
    "                               index_col=0,\n",
    "                               skiprows=8).drop(\"ID\")"
   ],
   "metadata": {
    "collapsed": false,
    "ExecuteTime": {
     "end_time": "2024-03-29T23:42:29.613541Z",
     "start_time": "2024-03-29T23:42:11.939339Z"
    }
   },
   "id": "dacf16fbf3026b06",
   "execution_count": 119
  },
  {
   "cell_type": "code",
   "outputs": [],
   "source": [
    "tf_p_value = pd.read_excel(os.path.join(\"..\", \"data\", \"tfoe\", \"13059_2014_502_MOESM1_ESM.xlsx\"),\n",
    "                           sheet_name = \"SupplementaryTableS2\",\n",
    "                           usecols=\"A,HC:OZ\",\n",
    "                           header=0,\n",
    "                           index_col=0,\n",
    "                           skiprows=8).drop(\"ID\")\n",
    "\n",
    "# Pandas adds a \".1\" suffix due to the repeats (the earlier FC columns, even though those aren't included in the output)\n",
    "tf_p_value.columns = tf_p_value.columns.str.replace(\".1\", \"\")"
   ],
   "metadata": {
    "collapsed": false,
    "ExecuteTime": {
     "end_time": "2024-03-29T23:42:54.602180Z",
     "start_time": "2024-03-29T23:42:29.614807Z"
    }
   },
   "id": "225f2ace24bdb7c2",
   "execution_count": 120
  },
  {
   "cell_type": "code",
   "outputs": [],
   "source": [
    "# For each TF, get the genes which are > 1 in fold change and < 0.01 in p-value\n",
    "tf_targets = {}\n",
    "for tf in tf_fold_change.columns:\n",
    "    target_list = list(tf_fold_change.index[(np.abs(tf_fold_change.loc[:,tf]) > 1.) & (tf_p_value.loc[:,tf] < 0.01)])\n",
    "    if tf in target_list:\n",
    "        target_list.remove(tf)\n",
    "    tf_targets[tf] = target_list"
   ],
   "metadata": {
    "collapsed": false,
    "ExecuteTime": {
     "end_time": "2024-03-29T23:42:54.977439Z",
     "start_time": "2024-03-29T23:42:54.603597Z"
    }
   },
   "id": "a60a15a228b0df21",
   "execution_count": 121
  },
  {
   "cell_type": "markdown",
   "source": [
    "## Phosphorylation Targets"
   ],
   "metadata": {
    "collapsed": false
   },
   "id": "3f2d4ebe598dc167"
  },
  {
   "cell_type": "code",
   "outputs": [],
   "source": [
    "kinase_to_rv = {\n",
    "    \"PknB\": \"Rv0014c\",\n",
    "    \"PknD\": \"Rv0931c\",\n",
    "    \"PknE\": \"Rv1743\",\n",
    "    \"PknF\": \"Rv1746\",\n",
    "    \"PknG\": \"Rv0410c\",\n",
    "    \"PknH\": \"Rv1266c\",\n",
    "    \"PknI\": \"Rv2014c\",\n",
    "    \"PknJ\": \"Rv2088\",\n",
    "    \"PknK\": \"Rv3080c\",\n",
    "    \"PknL\": \"Rv2176\"\n",
    "}\n",
    "\n",
    "rv_to_kinase = {v: k for k, v in kinase_to_rv.items()}"
   ],
   "metadata": {
    "collapsed": false,
    "ExecuteTime": {
     "end_time": "2024-03-29T23:42:54.983782Z",
     "start_time": "2024-03-29T23:42:54.979937Z"
    }
   },
   "id": "37176070f58b7425",
   "execution_count": 122
  },
  {
   "cell_type": "code",
   "outputs": [],
   "source": [
    "phosphorylation_targets = {}\n",
    "for kinase in kinase_to_rv:\n",
    "    kinase_sheet = pd.read_excel(os.path.join(\"..\", \"data\", \"phosphorylation\", \"41564_2022_1313_MOESM3_ESM.xlsx\"),\n",
    "                                 sheet_name = kinase,\n",
    "                                 usecols=\"D,F\",\n",
    "                                 header=0)\n",
    "    target_genes = np.unique(kinase_sheet[\"Rv Number\"].values)\n",
    "    phosphorylation_targets[kinase] = target_genes"
   ],
   "metadata": {
    "collapsed": false,
    "ExecuteTime": {
     "end_time": "2024-03-29T23:43:01.894052Z",
     "start_time": "2024-03-29T23:42:54.985261Z"
    }
   },
   "id": "ce554cec5880f549",
   "execution_count": 123
  },
  {
   "cell_type": "markdown",
   "source": [
    "## Expression Data"
   ],
   "metadata": {
    "collapsed": false
   },
   "id": "9896ec8e63bece09"
  },
  {
   "cell_type": "markdown",
   "source": [
    "### Compendia RNA-seq"
   ],
   "metadata": {
    "collapsed": false
   },
   "id": "22825b484f0ddcba"
  },
  {
   "cell_type": "code",
   "outputs": [],
   "source": [
    "compendia_expr = pd.read_csv(os.path.join(\"..\", \"data\", \"compendia\", \"log_tpm_norm.csv\"), index_col=0).transpose()\n",
    "compendia_genes = compendia_expr.columns\n",
    "compendia_expr.index.names = [\"Sample\"]\n",
    "compendia_expr = compendia_expr.reset_index()\n",
    "compendia_expr.rename_axis(None, axis=1, inplace=True)\n",
    "compendia_metadata = pd.read_csv(os.path.join(\"..\", \"data\", \"compendia\", \"metadata_final.csv\"), index_col=0)[\n",
    "    [\"Run\", \"SRAStudy\", \"BioProject\", \"ProjectID\", \"project\", \"condition\", \n",
    "     \"Biological Replicates\", \"reference_condition\", \"full_name\"]\n",
    "].reindex(compendia_expr[\"Sample\"])\n",
    "# Since the data is log2(fold-change) from the reference condition, we need to remove the reference condition (since they will average to 0)\n",
    "compendia_metadata = compendia_metadata[~compendia_metadata[\"condition\"].isin(compendia_metadata[\"reference_condition\"].unique())]\n",
    "compendia_expr = compendia_expr[compendia_expr[\"Sample\"].isin(compendia_metadata.index)]"
   ],
   "metadata": {
    "collapsed": false,
    "ExecuteTime": {
     "end_time": "2024-03-29T23:53:50.052630Z",
     "start_time": "2024-03-29T23:53:49.548001Z"
    }
   },
   "id": "c8f645f6a2c300be",
   "execution_count": 163
  },
  {
   "cell_type": "code",
   "outputs": [],
   "source": [
    "# Get the mean expression of each gene in each condition\n",
    "compendia_expr[\"full_name\"] = compendia_metadata[\"full_name\"]\n",
    "#compendia_expr.drop(\"Sample\", axis=1, inplace=False).groupby(\"full_name\").mean()\n"
   ],
   "metadata": {
    "collapsed": false,
    "ExecuteTime": {
     "end_time": "2024-03-29T23:54:52.565974Z",
     "start_time": "2024-03-29T23:54:52.560946Z"
    }
   },
   "id": "2229323effff2c44",
   "execution_count": 168
  },
  {
   "cell_type": "code",
   "outputs": [
    {
     "data": {
      "text/plain": "0      NaN\n1      NaN\n2      NaN\n3      NaN\n4      NaN\n      ... \n642    NaN\n643    NaN\n644    NaN\n645    NaN\n646    NaN\nName: full_name, Length: 514, dtype: object"
     },
     "execution_count": 173,
     "metadata": {},
     "output_type": "execute_result"
    }
   ],
   "source": [
    "compendia_expr['full_name']"
   ],
   "metadata": {
    "collapsed": false,
    "ExecuteTime": {
     "end_time": "2024-03-29T23:55:34.374440Z",
     "start_time": "2024-03-29T23:55:34.370102Z"
    }
   },
   "id": "3481f9216d04a211",
   "execution_count": 173
  },
  {
   "cell_type": "code",
   "outputs": [],
   "source": [
    "for group, df in compendia_expr.groupby(\"full_name\"):\n",
    "    print(group)\n",
    "    print(df)"
   ],
   "metadata": {
    "collapsed": false,
    "ExecuteTime": {
     "end_time": "2024-03-29T23:48:32.711228Z",
     "start_time": "2024-03-29T23:48:32.708020Z"
    }
   },
   "id": "6a12818c52a81bf1",
   "execution_count": 139
  },
  {
   "cell_type": "markdown",
   "source": [
    "### Kinase Perturbation RNA-seq"
   ],
   "metadata": {
    "collapsed": false
   },
   "id": "3b3245931ae3e6ae"
  },
  {
   "cell_type": "code",
   "outputs": [],
   "source": [
    "perturb_expr = pd.read_csv(os.path.join(\"..\", \"data\", \"phosphorylation\", \"GSE195959_Expression.MTB.GeneData.csv\"), index_col=0).drop(\"GrowthPhase\", axis=1)\n",
    "# Convert from RPKM to TPM, then take the log base 2 (adding noise to avoid log(0))\n",
    "perturb_expr = np.log2((perturb_expr.div(perturb_expr.sum(axis=1), axis=0) * 1e6)+1e-10)\n",
    "# Now subtract the mean of the control samples\n",
    "perturb_expr = perturb_expr.subtract(perturb_expr[perturb_expr.index.str.startswith(\"WT\")].mean(axis=0), axis=1)\n",
    "# Drop the control samples\n",
    "perturb_expr = perturb_expr.loc[~perturb_expr.index.str.startswith(\"WT\")]\n",
    "perturb_genes = perturb_expr.columns"
   ],
   "metadata": {
    "collapsed": false,
    "ExecuteTime": {
     "end_time": "2024-03-29T22:49:27.280265Z",
     "start_time": "2024-03-29T22:49:27.123102Z"
    }
   },
   "id": "daa684e5e7ec3d84",
   "execution_count": 75
  },
  {
   "cell_type": "markdown",
   "source": [
    "## Combined Targets\n",
    "Combine the TF and Kinase targets to get dictionaries of gene to TF, and gene to Kinase"
   ],
   "metadata": {
    "collapsed": false
   },
   "id": "65167bc270b875f"
  },
  {
   "cell_type": "code",
   "outputs": [],
   "source": [
    "# Get genes found in both the kinase perturbation and compendia datasets\n",
    "total_gene_list = np.intersect1d(compendia_genes, perturb_genes)\n",
    "\n",
    "# Dictionaries for the results\n",
    "gene_to_tf = {}\n",
    "tf_to_kinase = {}\n",
    "\n",
    "for gene in total_gene_list:\n",
    "    for tf in tf_targets:\n",
    "        if gene in tf_targets[tf]:\n",
    "            if gene not in gene_to_tf:\n",
    "                gene_to_tf[gene] = [tf]\n",
    "            else:\n",
    "                gene_to_tf[gene].append(tf)\n",
    "\n",
    "for tf in tf_targets:\n",
    "    for kinase in phosphorylation_targets:\n",
    "        if tf in phosphorylation_targets[kinase]:\n",
    "            if tf not in tf_to_kinase:\n",
    "                tf_to_kinase[tf] = [kinase_to_rv[kinase]]\n",
    "            else:\n",
    "                tf_to_kinase[tf].append(kinase_to_rv[kinase])\n",
    "            \n",
    "            "
   ],
   "metadata": {
    "collapsed": false,
    "ExecuteTime": {
     "end_time": "2024-03-29T23:13:21.527562Z",
     "start_time": "2024-03-29T23:13:20.604752Z"
    }
   },
   "id": "b6e8d4547cb26474",
   "execution_count": 97
  },
  {
   "cell_type": "markdown",
   "source": [
    "## Fitting Mixed Effects Model"
   ],
   "metadata": {
    "collapsed": false
   },
   "id": "b46127b31a6786a5"
  },
  {
   "cell_type": "code",
   "outputs": [
    {
     "data": {
      "text/plain": "96"
     },
     "execution_count": 99,
     "metadata": {},
     "output_type": "execute_result"
    }
   ],
   "source": [
    "len(tf_to_kinase)"
   ],
   "metadata": {
    "collapsed": false,
    "ExecuteTime": {
     "end_time": "2024-03-29T23:13:45.048402Z",
     "start_time": "2024-03-29T23:13:45.045074Z"
    }
   },
   "id": "37755bf2fbc73ea",
   "execution_count": 99
  },
  {
   "cell_type": "code",
   "outputs": [
    {
     "data": {
      "text/plain": "206"
     },
     "execution_count": 100,
     "metadata": {},
     "output_type": "execute_result"
    }
   ],
   "source": [],
   "metadata": {
    "collapsed": false,
    "ExecuteTime": {
     "end_time": "2024-03-29T23:13:56.655192Z",
     "start_time": "2024-03-29T23:13:56.651194Z"
    }
   },
   "id": "95f5061235078b11",
   "execution_count": 100
  },
  {
   "cell_type": "code",
   "outputs": [],
   "source": [
    "values, counts = np.unique(compendia_metadata[\"full_name\"], return_counts=True)"
   ],
   "metadata": {
    "collapsed": false,
    "ExecuteTime": {
     "end_time": "2024-03-29T23:28:42.240869Z",
     "start_time": "2024-03-29T23:28:42.238031Z"
    }
   },
   "id": "b39e4760aa6af8de",
   "execution_count": 108
  },
  {
   "cell_type": "code",
   "outputs": [
    {
     "data": {
      "text/plain": "array(['AX:AX_10_MIC', 'AX:AX_30_MIC', 'AX:QZ_10_MIC', 'AX:QZ_30_MIC',\n       'ITM_04:00h_clinic_ctrl', 'ITM_04:06h_clinic_DMSO',\n       'ITM_04:06h_clinic_delam', 'ITM_04:06h_h37rv_DMSO',\n       'ITM_04:06h_h37rv_delam', 'ITM_04:24h_clinic_DMSO',\n       'ITM_04:24h_clinic_delam', 'ITM_04:24h_h37rv_DMSO',\n       'ITM_04:24h_h37rv_delam', 'JSF:JSF_2019', 'JSF:JSF_2026',\n       'MTS1338:over_expression', 'PAS:treated',\n       'THP-1:24h_THP_B_enriched', 'aminoimidazoles:02h_treated',\n       'aminoimidazoles:24h_treated', 'antibiotic:ctrl_24h',\n       'antibiotic:izd_4h', 'base:wt_glu_24', 'base:wt_llac_24',\n       'base:wt_llac_6', 'base:wt_pyr_24', 'base:wt_pyr_6',\n       'biofilm:biofilm', 'btz043:0_days_.006', 'btz043:1_days_.006',\n       'btz043:1_days_control', 'clarithromycin:1_days_control',\n       'cnpB:del', 'csoR:ko', 'dap:0_days_25', 'dap:1_days_25',\n       'dap:1_days_control', 'degradosome:PNPase_ko',\n       'degradosome:Rnase_E_ko', 'degradosome:mutant_rnj',\n       'degradosome:wt_cas9_ctrl', 'delam:0_days_.09', 'delam:1_days_.09',\n       'delam:1_days_control', 'dg_inh:both', 'dg_inh:dg', 'dg_inh:inh',\n       'dormancy:dormant_20d_rifampicin', 'dormancy:dormant_no_treatment',\n       'eccE1:delta_eccE1', 'eccE1:delta_eccE1_eccE1_HA_comp',\n       'eccE1:delta_eccE1_empty_vector',\n       'eccE1:delta_eccE1_mycP1_eccE1_comp',\n       'eccE1:delta_eccE1_myc_p1_HA_comp', 'emb:0_days_2.45',\n       'emb:1_days_2.45', 'emb:1_days_control', 'espL:ko', 'esx_1:ko',\n       'genotoxic:growth_supplement', 'growth:tss_expnt',\n       'growth:tss_starved', 'hs2:treated', 'hypoxia:017h_.57_DO',\n       'hypoxia:023h_.42_DO', 'hypoxia:040h_.11_DO',\n       'hypoxia:041h_.09_DO', 'hypoxia:042h_.07_DO',\n       'hypoxia:043h_.06_DO', 'hypoxia:044h_.04_DO', 'hypoxia:047h_0_DO',\n       'hypoxia:049h_0_DO', 'hypoxia:050h_0_DO', 'hypoxia:052h_0_DO',\n       'hypoxia:054h_0_DO', 'hypoxia:070h_0_DO', 'hypoxia:088h_0_DO',\n       'hypoxia:114.5h_.04_DO', 'hypoxia:115h_.06_DO',\n       'hypoxia:116h_.11_DO', 'hypoxia:120h_.47_DO', 'kinase:DMSO_0h_F',\n       'kinase:DMSO_0h_H', 'kinase:T10_12h_F', 'kinase:T10_12h_H',\n       'kinase:T10_12h_I', 'kinase:T10_24h_F', 'kinase:T10_24h_H',\n       'kinase:T10_24h_I', 'kinase:T10_48h_F', 'kinase:T10_48h_H',\n       'kinase:T10_48h_I', 'kinase:T4 20 _12h_I', 'kinase:T4 _48h_H',\n       'kinase:T4_12h_F', 'kinase:T4_12h_H', 'kinase:T4_24h_F',\n       'kinase:T4_24h_H', 'kinase:T4_24h_I', 'kinase:T4_48h_F',\n       'kinase:T4_48h_I', 'kinase:WT_T10_48h', 'kinase:WT_T4_48h',\n       'kinase:pknD_T10_48h', 'kinase:pknL_T10_48h', 'kinase:pknL_T4_48h',\n       'levofloxacin:treated', 'linez:0_days_4', 'linez:1_days_4',\n       'linez:1_days_control', 'lipid:dextrose_hypo',\n       'lipid:dextrose_stat', 'lipid:lipid_exp', 'lipid:lipid_stat',\n       'mcr11:mcr11_mutant', 'miceBMDM:inf02', 'miceBMDM:inf08',\n       'miceBMDM:inf24', 'miceBMDM:no_inf08', 'miceBMDM:no_inf24',\n       'miceNF:invivo', 'mihF:mihF_mutant_atc', 'mihF:mihF_mutant_no_atc',\n       'mihF:wt_atc', 'mmpl3:mutant_no_ATC', 'mmpl3:mutant_with_ATC',\n       'mrsI:ko_iron_atc', 'mrsI:ko_iron_no_atc', 'mrsI:ko_ox_atc',\n       'mrsI:ko_ox_no_atc', 'mrsI:ko_sds_atc', 'mrsI:ko_sds_no_atc',\n       'mrsI:wt_iron_atc', 'mrsI:wt_iron_no_atc', 'mrsI:wt_ox_atc',\n       'mrsI:wt_ox_noatc', 'mrsI:wt_sds_atc', 'p218:0_days_.1',\n       'p218:1_days_.1', 'p218:1_days_control', 'patH-Cap:post_path_ctrl',\n       'patH-Cap:post_path_inh', 'patH-Cap:pre_path_inh',\n       'ppxx:double_mutant', 'reactivation:day_1_reactivation',\n       'reactivation:day_2_reactivation',\n       'reactivation:day_3_reactivation',\n       'reactivation:day_4_reactivation', 'redox:intra_basal',\n       'redox:whib3_comp_4.5', 'redox:whib3_comp_6.6',\n       'redox:whib3_ko_4.5', 'redox:wt_4.5', 'redox:wt_6.6',\n       'resus:day_4_run_1', 'rho:00h_DUC', 'rho:00h_DUC_1',\n       'rho:01.5_DUC', 'rho:01.5h_DUC_ATC', 'rho:03_DUC',\n       'rho:03h_DUC_ATC', 'rho:06h_DUC_ATC', 'rho:06h_WT_ATC',\n       'rho:09_DUC', 'rho:09h_DUC_ATC', 'smx:0_days_12.5',\n       'smx:1_days_12.5', 'smx:1_days_control', 'sq109:0_days_3',\n       'sq109:1_days_3', 'sq109:1_days_control', 'stress:.1_butyrate',\n       'stress:1_days_low_iron', 'stress:7_days_low_iron',\n       'stress:gluc_butyrate', 'stress:high_iron', 'stress:tolox_ph_7',\n       'sutez:0_days_5.6', 'sutez:1_days_5.6', 'sutez:1_days_control',\n       'tss:expression_library', 'tss:mapping_triphosphate',\n       'tss:mapping_wo_triphosphate', 'vera:0_days_176',\n       'vera:1_days_176', 'vera:1_days_control'], dtype=object)"
     },
     "execution_count": 109,
     "metadata": {},
     "output_type": "execute_result"
    }
   ],
   "source": [
    "values"
   ],
   "metadata": {
    "collapsed": false,
    "ExecuteTime": {
     "end_time": "2024-03-29T23:28:43.580017Z",
     "start_time": "2024-03-29T23:28:43.573612Z"
    }
   },
   "id": "2b89c29423594af4",
   "execution_count": 109
  },
  {
   "cell_type": "code",
   "outputs": [
    {
     "data": {
      "text/plain": "(array([ 1.,  0., 74.,  0., 83.,  0., 25.,  0.,  2.,  1.]),\n array([1. , 1.5, 2. , 2.5, 3. , 3.5, 4. , 4.5, 5. , 5.5, 6. ]),\n <BarContainer object of 10 artists>)"
     },
     "execution_count": 110,
     "metadata": {},
     "output_type": "execute_result"
    },
    {
     "data": {
      "text/plain": "<Figure size 640x480 with 1 Axes>",
      "image/png": "[encoded data removed]"
     },
     "metadata": {},
     "output_type": "display_data"
    }
   ],
   "source": [
    "plt.hist(counts)"
   ],
   "metadata": {
    "collapsed": false,
    "ExecuteTime": {
     "end_time": "2024-03-29T23:28:47.135343Z",
     "start_time": "2024-03-29T23:28:46.992002Z"
    }
   },
   "id": "91350df437fa170a",
   "execution_count": 110
  },
  {
   "cell_type": "code",
   "outputs": [
    {
     "data": {
      "text/plain": "186"
     },
     "execution_count": 111,
     "metadata": {},
     "output_type": "execute_result"
    }
   ],
   "source": [
    "len(counts)"
   ],
   "metadata": {
    "collapsed": false,
    "ExecuteTime": {
     "end_time": "2024-03-29T23:30:47.034757Z",
     "start_time": "2024-03-29T23:30:47.031596Z"
    }
   },
   "id": "374d9a58b2e73bec",
   "execution_count": 111
  },
  {
   "cell_type": "code",
   "outputs": [],
   "source": [],
   "metadata": {
    "collapsed": false
   },
   "id": "a7244047222ebcfe"
  }
 ],
 "metadata": {
  "kernelspec": {
   "display_name": "Python 3",
   "language": "python",
   "name": "python3"
  },
  "language_info": {
   "codemirror_mode": {
    "name": "ipython",
    "version": 2
   },
   "file_extension": ".py",
   "mimetype": "text/x-python",
   "name": "python",
   "nbconvert_exporter": "python",
   "pygments_lexer": "ipython2",
   "version": "2.7.6"
  }
 },
 "nbformat": 4,
 "nbformat_minor": 5
}
